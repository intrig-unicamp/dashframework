{
 "cells": [
  {
   "cell_type": "code",
   "execution_count": null,
   "metadata": {},
   "outputs": [],
   "source": [
    "import numpy as np\n",
    "import pandas as pd\n",
    "import seaborn as sns\n",
    "from scipy import stats\n",
    "import matplotlib.pyplot as plt\n",
    "from ipywidgets import *\n",
    "import warnings\n",
    "warnings.simplefilter(action='ignore', category=Warning)\n",
    "%matplotlib inline"
   ]
  },
  {
   "cell_type": "code",
   "execution_count": null,
   "metadata": {},
   "outputs": [],
   "source": [
    "df = pd.read_csv(\"dataset_final_old.csv\")\n",
    "\n",
    "#df = df.rename(columns={'column':'Column','type':'Mode','total_users':'Total_host','user_no':'Host_no','intSeg':'Segment_no','intArr':'Arr_time','intDel':'Del_Time', 'intSta':'Stall_Dur', 'intRep':'Rep_Level','intDelRate':'Del_Rate','intActRate':'Act_Rate', 'intByteSize':'Byte_Size', 'floatBuf':'Buff_Level',  'algorithm_used':'Algorithm',  'seg_Dur': 'Seg_Dur','width': 'Width','height': 'Height',  'play_Pos':'Play_Pos', 'RTT':'RTT_app',  'P1203':' P.1203', 'Clae':'Clae', 'Duanmu':' Duanmu', 'Yin':'Yin', 'Yu':'Yu', 'persegment_RTT':'RTT_net','Throughput':'Throughput','Packets':'Packets'})\n",
    "\n",
    "#f.columns\n"
   ]
  },
  {
   "cell_type": "code",
   "execution_count": null,
   "metadata": {},
   "outputs": [],
   "source": [
    "def interactive_contol(Mobility, Trace_no, Total_host, Host_no , Algorithm, Target):\n",
    "    t= Mobility\n",
    "    c= Trace_no\n",
    "    u= Host_no\n",
    "    a=Algorithm\n",
    "    tr= Target\n",
    "    tu= Total_host\n",
    "    \n",
    "    if a=='Rate Based':\n",
    "        case1= df[(df['Algorithm']=='conventional')]\n",
    "        case2= df[(df['Algorithm']=='exponential')]\n",
    "        a1='Conventional'\n",
    "        a2='Exponential'\n",
    "    elif a=='Buffer Based':\n",
    "        case1= df[(df['Algorithm']=='bba')]\n",
    "        case2= df[(df['Algorithm']=='logistic')]\n",
    "        a1='BBA'\n",
    "        a2='Logistic'\n",
    "    else:\n",
    "        case1= df[(df['Algorithm']=='arbiter')]\n",
    "        case2= df[(df['Algorithm']=='elastic')]\n",
    "        a1='Arbiter +'\n",
    "        a2='Elastic'\n",
    "    \n",
    "    case1_final = case1[( case1['Trace_no']==c) & ( case1['Mode']==t) & ( case1['Host_no']==u) & ( case1['Total_host']==tu)]\n",
    "    case2_final = case2[( case2['Trace_no']==c) & ( case2['Mode']==t) & ( case2['Host_no']==u) & ( case2['Total_host']==tu)]\n",
    "    \n",
    "    if c==8 and t=='driving':\n",
    "        title= '0.5 - 3 Mbps';\n",
    "    elif c==10 and t=='driving':\n",
    "        title= '6 - 14 Mbps';\n",
    "    elif c==1 and t=='driving':\n",
    "        title= '38.26 - 10.33 Mbps';\n",
    "    elif c==2 and t=='driving':\n",
    "        title= '29.33 - 10.55 Mbps';\n",
    "    elif c==4 and t=='static':\n",
    "        title= '72.42 - 9 Mbps';\n",
    "    elif c==5 and t=='static':\n",
    "        title= '70 - 20 Mbps';  \n",
    "    elif c==7 and t=='static':\n",
    "        title= '4 - 7.6 Mbps';\n",
    "    elif c==9 and t=='static':\n",
    "        title= '0.5 - 6 Mbps';\n",
    "    elif c==11 and t=='static':\n",
    "        title= '8 - 57 Mbps';    \n",
    "    else:\n",
    "        title='Unknown Case'\n",
    "    \n",
    "    plt.style.use('classic')\n",
    "    fig = plt.figure(figsize=(10,5))\n",
    "    with plt.style.context('Solarize_Light2'):\n",
    "        fig.set_facecolor('white')\n",
    "        plt.rcParams['axes.facecolor'] = 'white'\n",
    "        plt.plot(case1_final['Segment_no'], case1_final[tr], label=a1)\n",
    "        plt.plot(case2_final['Segment_no'], case2_final[tr], label=a2, linestyle='--', color='orange')\n",
    "        plt.title(title, fontsize=11)\n",
    "        plt.xlabel('Segments (2 sec)', fontsize=12, color='black')\n",
    "        plt.ylabel(tr, fontsize=12, color='black')\n",
    "        plt.legend(loc='best',frameon=False)\n",
    "        plt.grid(axis='y', c='#D3D3D3')\n",
    "        plt.grid(axis='x', c='#D3D3D3')\n",
    "        plt.tick_params(axis='x',  colors='black')\n",
    "        plt.tick_params(axis='y', colors='black')\n",
    "    plt.show()\n",
    "    \n",
    "\n"
   ]
  },
  {
   "cell_type": "code",
   "execution_count": null,
   "metadata": {},
   "outputs": [],
   "source": [
    "interact(interactive_contol, Mobility=['driving','static'], Trace_no=[1,2,4,5,7,8,9,10,11],Total_host=[2,3], Host_no=[1,2,3], Algorithm=['Rate Based','Hybrid', 'Buffer Based' ], Target=['Clae', ' Duanmu',\n",
    "       'Yin', 'Yu','P1203', 'persegment_RTT','Throughput', 'Packets','Arr_time','Del_Time', 'Stall_Dur', 'Del_Rate',\n",
    "       'Act_Rate', 'Byte_Size',  'Buff_Level'])\n"
   ]
  }
 ],
 "metadata": {
  "kernelspec": {
   "display_name": "Python 3",
   "language": "python",
   "name": "python3"
  },
  "language_info": {
   "codemirror_mode": {
    "name": "ipython",
    "version": 3
   },
   "file_extension": ".py",
   "mimetype": "text/x-python",
   "name": "python",
   "nbconvert_exporter": "python",
   "pygments_lexer": "ipython3",
   "version": "3.7.3"
  }
 },
 "nbformat": 4,
 "nbformat_minor": 4
}
